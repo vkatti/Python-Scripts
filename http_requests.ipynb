{
 "cells": [
  {
   "cell_type": "markdown",
   "metadata": {},
   "source": [
    "# `requests` Module with API\n",
    "\n",
    "We will be using https://httpbin.org to test the functionality of the `requests` module."
   ]
  },
  {
   "cell_type": "code",
   "execution_count": 1,
   "metadata": {},
   "outputs": [],
   "source": [
    "import requests"
   ]
  },
  {
   "cell_type": "markdown",
   "metadata": {},
   "source": [
    "We will first test the `GET` method. The `GET` method in httpbin.org is designed to return the JSON input as the JSON output. There are 2 ways to do this:\n",
    "1. Pass the argument values in the URL directly\n",
    "2. Pass a JSON payload in the `body`"
   ]
  },
  {
   "cell_type": "markdown",
   "metadata": {},
   "source": [
    "## Passing the arguments in URL"
   ]
  },
  {
   "cell_type": "code",
   "execution_count": 2,
   "metadata": {},
   "outputs": [
    {
     "data": {
      "text/plain": [
       "200"
      ]
     },
     "execution_count": 2,
     "metadata": {},
     "output_type": "execute_result"
    }
   ],
   "source": [
    "r = requests.get(\"https://httpbin.org/get?Param1=Value 1&Param2=Value 2\")\n",
    "r.status_code"
   ]
  },
  {
   "cell_type": "code",
   "execution_count": 3,
   "metadata": {},
   "outputs": [
    {
     "name": "stdout",
     "output_type": "stream",
     "text": [
      "{\n",
      "  \"args\": {\n",
      "    \"Param1\": \"Value 1\", \n",
      "    \"Param2\": \"Value 2\"\n",
      "  }, \n",
      "  \"headers\": {\n",
      "    \"Accept\": \"*/*\", \n",
      "    \"Accept-Encoding\": \"gzip, deflate\", \n",
      "    \"Host\": \"httpbin.org\", \n",
      "    \"User-Agent\": \"python-requests/2.31.0\", \n",
      "    \"X-Amzn-Trace-Id\": \"Root=1-65258438-14112e7b6c4c90272ee58961\"\n",
      "  }, \n",
      "  \"origin\": \"49.37.177.63\", \n",
      "  \"url\": \"https://httpbin.org/get?Param1=Value 1&Param2=Value 2\"\n",
      "}\n",
      "\n"
     ]
    }
   ],
   "source": [
    "print(r.text)"
   ]
  },
  {
   "cell_type": "markdown",
   "metadata": {},
   "source": [
    "## Passing a dictionary of parameters\n",
    "\n",
    "Create a dictionary with the key-value pairs of the arguments to be passed"
   ]
  },
  {
   "cell_type": "code",
   "execution_count": 35,
   "metadata": {},
   "outputs": [
    {
     "name": "stdout",
     "output_type": "stream",
     "text": [
      "{'Param1': 'Value 1', 'Param2': 'Value 2', 'Param3': 'Value 3'}\n"
     ]
    }
   ],
   "source": [
    "payload = {\n",
    "    \"Param1\": \"Value 1\", \n",
    "    \"Param2\": \"Value 2\", \n",
    "    \"Param3\": \"Value 3\"\n",
    "    }\n",
    "print(payload)"
   ]
  },
  {
   "cell_type": "code",
   "execution_count": 36,
   "metadata": {},
   "outputs": [
    {
     "data": {
      "text/plain": [
       "200"
      ]
     },
     "execution_count": 36,
     "metadata": {},
     "output_type": "execute_result"
    }
   ],
   "source": [
    "r = requests.get(\"https://httpbin.org/get\", params=payload)\n",
    "r.status_code"
   ]
  },
  {
   "cell_type": "code",
   "execution_count": 37,
   "metadata": {},
   "outputs": [
    {
     "name": "stdout",
     "output_type": "stream",
     "text": [
      "{\n",
      "  \"args\": {\n",
      "    \"Param1\": \"Value 1\", \n",
      "    \"Param2\": \"Value 2\", \n",
      "    \"Param3\": \"Value 3\"\n",
      "  }, \n",
      "  \"headers\": {\n",
      "    \"Accept\": \"*/*\", \n",
      "    \"Accept-Encoding\": \"gzip, deflate\", \n",
      "    \"Host\": \"httpbin.org\", \n",
      "    \"User-Agent\": \"python-requests/2.31.0\", \n",
      "    \"X-Amzn-Trace-Id\": \"Root=1-652586ed-00e18c2b7da429417d1ac331\"\n",
      "  }, \n",
      "  \"origin\": \"49.37.177.63\", \n",
      "  \"url\": \"https://httpbin.org/get?Param1=Value+1&Param2=Value+2&Param3=Value+3\"\n",
      "}\n",
      "\n"
     ]
    }
   ],
   "source": [
    "print(r.text)"
   ]
  },
  {
   "cell_type": "markdown",
   "metadata": {},
   "source": [
    "## Passing a Nested dictionary of parameters\n",
    "\n",
    "Create a nested dictionary with the key-value pairs of the arguments to be passed, convert it into a json string.\n",
    "\n",
    "> Nested disctionary can be passed to `data` or `json` arguments of the POST request, not `params` for GET."
   ]
  },
  {
   "cell_type": "code",
   "execution_count": 68,
   "metadata": {},
   "outputs": [
    {
     "name": "stdout",
     "output_type": "stream",
     "text": [
      "{'Param1': 'Value 1', 'Param2': 'Value 2', 'Param3': [{'NestedParam1': 'Value3'}, {'NestedParam2': 'Value4'}], 'Param4': 'Value5'}\n"
     ]
    }
   ],
   "source": [
    "payload = {\n",
    "    \"Param1\": \"Value 1\", \n",
    "    \"Param2\": \"Value 2\", \n",
    "    \"Param3\": [\n",
    "        {\"NestedParam1\":\"Value3\"},\n",
    "        {\"NestedParam2\":\"Value4\"}\n",
    "        ],\n",
    "    \"Param4\": \"Value5\"\n",
    "    }\n",
    "print(payload) "
   ]
  },
  {
   "cell_type": "code",
   "execution_count": 69,
   "metadata": {},
   "outputs": [
    {
     "name": "stdout",
     "output_type": "stream",
     "text": [
      "{\n",
      "    \"Param1\": \"Value 1\",\n",
      "    \"Param2\": \"Value 2\",\n",
      "    \"Param3\": [\n",
      "        {\n",
      "            \"NestedParam1\": \"Value3\"\n",
      "        },\n",
      "        {\n",
      "            \"NestedParam2\": \"Value4\"\n",
      "        }\n",
      "    ],\n",
      "    \"Param4\": \"Value5\"\n",
      "}\n"
     ]
    }
   ],
   "source": [
    "import json\n",
    "payload_json = json.dumps(payload, indent=4)\n",
    "print(payload_json)"
   ]
  },
  {
   "cell_type": "code",
   "execution_count": 70,
   "metadata": {},
   "outputs": [
    {
     "data": {
      "text/plain": [
       "<Response [200]>"
      ]
     },
     "execution_count": 70,
     "metadata": {},
     "output_type": "execute_result"
    }
   ],
   "source": [
    "response = requests.request(\"POST\", url=\"https://httpbin.org/post\", json=payload)\n",
    "response"
   ]
  },
  {
   "cell_type": "code",
   "execution_count": 73,
   "metadata": {},
   "outputs": [
    {
     "name": "stdout",
     "output_type": "stream",
     "text": [
      "{'Param1': 'Value 1', 'Param2': 'Value 2', 'Param3': [{'NestedParam1': 'Value3'}, {'NestedParam2': 'Value4'}], 'Param4': 'Value5'}\n"
     ]
    }
   ],
   "source": [
    "print(response.json()['json'])"
   ]
  }
 ],
 "metadata": {
  "kernelspec": {
   "display_name": "Python 3",
   "language": "python",
   "name": "python3"
  },
  "language_info": {
   "codemirror_mode": {
    "name": "ipython",
    "version": 3
   },
   "file_extension": ".py",
   "mimetype": "text/x-python",
   "name": "python",
   "nbconvert_exporter": "python",
   "pygments_lexer": "ipython3",
   "version": "3.12.0"
  }
 },
 "nbformat": 4,
 "nbformat_minor": 2
}
